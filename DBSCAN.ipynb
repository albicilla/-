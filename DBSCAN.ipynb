{
  "nbformat": 4,
  "nbformat_minor": 0,
  "metadata": {
    "colab": {
      "name": "DBSCAN.ipynb",
      "version": "0.3.2",
      "provenance": [],
      "collapsed_sections": [],
      "include_colab_link": true
    },
    "kernelspec": {
      "name": "python3",
      "display_name": "Python 3"
    }
  },
  "cells": [
    {
      "cell_type": "markdown",
      "metadata": {
        "id": "view-in-github",
        "colab_type": "text"
      },
      "source": [
        "<a href=\"https://colab.research.google.com/github/albicilla/-/blob/master/DBSCAN.ipynb\" target=\"_parent\"><img src=\"https://colab.research.google.com/assets/colab-badge.svg\" alt=\"Open In Colab\"/></a>"
      ]
    },
    {
      "metadata": {
        "id": "3VTibiAq9-7B",
        "colab_type": "code",
        "colab": {}
      },
      "cell_type": "code",
      "source": [
        "import numpy as np\n",
        "import matplotlib.pyplot as plt"
      ],
      "execution_count": 0,
      "outputs": []
    },
    {
      "metadata": {
        "id": "fQTHCbeFC4C7",
        "colab_type": "text"
      },
      "cell_type": "markdown",
      "source": [
        "Pythonだと引数は参照渡しだが、イミュータブルである。\n",
        "引数を更新しようとすると新しいオブジェクトが作成されてポインタのような使い方はできない。\n",
        "しょうがないので辞書(key-value)を使って似たようなことをした。全体的に非常に頭が悪い実装。"
      ]
    },
    {
      "metadata": {
        "id": "2fxdXt8A9m0W",
        "colab_type": "code",
        "colab": {}
      },
      "cell_type": "code",
      "source": [
        "# ユークリッド距離を求める関数\n",
        "def euc_dist(a, b):\n",
        "    assert len(a) == len(b)\n",
        "    return np.linalg.norm(a - b)"
      ],
      "execution_count": 0,
      "outputs": []
    },
    {
      "metadata": {
        "id": "IhOEH80SGjWG",
        "colab_type": "code",
        "colab": {}
      },
      "cell_type": "code",
      "source": [
        "# 点から距離epsilonの範囲に存在する点のリストを返す関数\n",
        "# 自身を含む\n",
        "def region_query(i, points, epsilon):\n",
        "    neighbor_points = []\n",
        "    for j, point in points.items():\n",
        "        if euc_dist(points[i], point) <= epsilon:\n",
        "            neighbor_points.append(j)\n",
        "    return neighbor_points"
      ],
      "execution_count": 0,
      "outputs": []
    },
    {
      "metadata": {
        "id": "6If-LTZmGjf6",
        "colab_type": "code",
        "colab": {}
      },
      "cell_type": "code",
      "source": [
        "# クラスターを拡大していく関数\n",
        "# TrueまたはFalseを返す\n",
        "# seedsは境界領域の点のリスト\n",
        "# seedから周辺の点をたどる。その点の周辺min_points以上存在するようならseedはcore_clusterとなる。\n",
        "# core_clusterから到達可能な点をseedsとして追加し、新たにcore_clusterの候補とする。\n",
        "# これをcore_clusterの候補がなくなるまで繰り返す。\n",
        "\n",
        "def expand_cluster(i, cluster_id, points, epsilon, min_points):\n",
        "    seeds = region_query(i, points, epsilon)\n",
        "    \n",
        "    if len(seeds) < min_points:\n",
        "        change_cluster_ids(seeds, -1)\n",
        "        return False\n",
        "    else:\n",
        "        change_cluster_ids(seeds, cluster_id)\n",
        "        #     リストのremoveを使うのはO(n)なので頭悪い\n",
        "        seeds.remove(i)\n",
        "      \n",
        "        while len(seeds) > 0:\n",
        "            current_point = seeds[0]\n",
        "            result = region_query(current_point, points, epsilon)\n",
        "\n",
        "            if len(result) >= min_points:\n",
        "                for j in result:\n",
        "                    if labels[j] == None or labels[j] == -1:\n",
        "                        if labels[j] == None:\n",
        "                            seeds.append(j)\n",
        "                        labels[j] = cluster_id\n",
        "            seeds.remove(current_point)\n",
        "        \n",
        "    return True"
      ],
      "execution_count": 0,
      "outputs": []
    },
    {
      "metadata": {
        "id": "_Rcn4j4zHLhG",
        "colab_type": "code",
        "colab": {}
      },
      "cell_type": "code",
      "source": [
        "# 点のクラスターidをまとめて変更する関数\n",
        "def change_cluster_ids(seeds, cluster_id):\n",
        "    for j in seeds:\n",
        "        labels[j] = cluster_id"
      ],
      "execution_count": 0,
      "outputs": []
    },
    {
      "metadata": {
        "id": "emvsVDCkhnRV",
        "colab_type": "code",
        "colab": {}
      },
      "cell_type": "code",
      "source": [
        "def dbscan(points, epsilon=0.5, min_points=5):\n",
        "    \n",
        "#     global変数にするとメモリ使用量を減らせるが頭悪い気がする\n",
        "    global labels\n",
        "    labels = np.full(len(points), None)\n",
        "    cluster_id = 0\n",
        "#     ポインタが使えないので辞書を使うことでidを振る\n",
        "    points = {i: p for i, p in enumerate(points)}\n",
        "\n",
        "\n",
        "    for i in points.keys():\n",
        "        if labels[i] == None: \n",
        "            if expand_cluster(i, cluster_id, points, epsilon, min_points):\n",
        "                cluster_id += 1\n",
        "\n",
        "    return np.array(labels)"
      ],
      "execution_count": 0,
      "outputs": []
    },
    {
      "metadata": {
        "id": "DRwV2XGvNesW",
        "colab_type": "code",
        "colab": {}
      },
      "cell_type": "code",
      "source": [
        "# データの読み込み\n",
        "# 要アップロード\n",
        "with open ('dbscan_test.txt', 'r') as f:\n",
        "    data = np.array([[float(l.split()[1]), float(l.split()[2])] for l in f.readlines()])"
      ],
      "execution_count": 0,
      "outputs": []
    },
    {
      "metadata": {
        "id": "imsrbKmLvMEY",
        "colab_type": "code",
        "colab": {}
      },
      "cell_type": "code",
      "source": [
        "# 念の為データをシャッフル\n",
        "np.random.shuffle(data)"
      ],
      "execution_count": 0,
      "outputs": []
    },
    {
      "metadata": {
        "id": "osicKvBHKfDN",
        "colab_type": "code",
        "colab": {}
      },
      "cell_type": "code",
      "source": [
        "# クラスタリングの実行\n",
        "labels = dbscan(data, epsilon=4, min_points=6)"
      ],
      "execution_count": 0,
      "outputs": []
    },
    {
      "metadata": {
        "id": "pJCpLCesJn3r",
        "colab_type": "code",
        "outputId": "dd359337-7ede-41d8-ff35-60733e3ee6b8",
        "colab": {
          "base_uri": "https://localhost:8080/",
          "height": 351
        }
      },
      "cell_type": "code",
      "source": [
        "# クラスタリング結果のプロット\n",
        "plt.scatter(data[:, 0][np.where(labels==-1)], data[:, 1][np.where(labels==-1)])\n",
        "\n",
        "for i in range(np.argmax(labels)):\n",
        "    plt.scatter(data[:, 0][np.where(labels==i)], data[:, 1][np.where(labels==i)])"
      ],
      "execution_count": 0,
      "outputs": [
        {
          "output_type": "display_data",
          "data": {
            "image/png": "[encoded data removed]",
            "text/plain": [
              "<matplotlib.figure.Figure at 0x7f9d5375b5f8>"
            ]
          },
          "metadata": {
            "tags": []
          }
        }
      ]
    },
    {
      "metadata": {
        "id": "bkuLHr0dJzEe",
        "colab_type": "code",
        "outputId": "2e3d7e7d-9e73-4c19-f3f4-d5191d7d52d1",
        "colab": {
          "base_uri": "https://localhost:8080/",
          "height": 121
        }
      },
      "cell_type": "code",
      "source": [
        "labels"
      ],
      "execution_count": 0,
      "outputs": [
        {
          "output_type": "execute_result",
          "data": {
            "text/plain": [
              "array([0, 1, 1, 2, 0, 0, 3, 0, 0, 2, 2, 3, 3, 2, 2, 0, 2, -1, 2, 2, 0, 2,\n",
              "       3, 1, 1, -1, 2, 3, -1, 3, 3, 0, 1, 2, 3, 3, 3, 3, 3, 2, 1, 1, 3, 1,\n",
              "       3, -1, 2, 1, 1, 3, -1, 0, 0, 1, 0, 0, 3, 1, 1, 2, 3, 1, -1, -1, 2,\n",
              "       2, 0, 2, 3, 2, 0, 0, 2, 1, 3, 3, 1, 1, 3, 1, 2, 2, -1, -1, 3, 0, 0,\n",
              "       0, 1, 3, 2, 2, 1, 0, 3, 3, 1, 1, 0, 0, 3, 3, -1, 3, 2, 1, 3, 3, 3,\n",
              "       0, 3, 3, 0, 1, 3, 3, 3, 0], dtype=object)"
            ]
          },
          "metadata": {
            "tags": []
          },
          "execution_count": 52
        }
      ]
    },
    {
      "metadata": {
        "id": "v7qsUMe5LXii",
        "colab_type": "code",
        "colab": {}
      },
      "cell_type": "code",
      "source": [
        ""
      ],
      "execution_count": 0,
      "outputs": []
    }
  ]
}